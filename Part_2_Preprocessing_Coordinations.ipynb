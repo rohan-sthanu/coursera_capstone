{
  "nbformat": 4,
  "nbformat_minor": 0,
  "metadata": {
    "kernelspec": {
      "name": "python3",
      "display_name": "Python 3"
    },
    "language_info": {
      "codemirror_mode": {
        "name": "ipython",
        "version": 3
      },
      "file_extension": ".py",
      "mimetype": "text/x-python",
      "name": "python",
      "nbconvert_exporter": "python",
      "pygments_lexer": "ipython3",
      "version": "3.6.6"
    },
    "colab": {
      "name": "Part 2-Preprocessing-Coordinations.ipynb",
      "version": "0.3.2",
      "provenance": [],
      "collapsed_sections": [],
      "include_colab_link": true
    },
    "accelerator": "GPU"
  },
  "cells": [
    {
      "cell_type": "markdown",
      "metadata": {
        "id": "view-in-github",
        "colab_type": "text"
      },
      "source": [
        "<a href=\"https://colab.research.google.com/github/rezapci/IBM-Coursera-Capstone-Project-Notebook/blob/master/Part_2_Preprocessing_Coordinations.ipynb\" target=\"_parent\"><img src=\"https://colab.research.google.com/assets/colab-badge.svg\" alt=\"Open In Colab\"/></a>"
      ]
    },
    {
      "cell_type": "markdown",
      "metadata": {
        "id": "9RxLJtrf8Y_W",
        "colab_type": "text"
      },
      "source": [
        "| Name | Description | Date\n",
        "| :- |-------------: | :-:\n",
        "|Reza Hashemi| IBM Applied Data Science Capstone.  | On 6th of August 2019\n",
        "\n",
        "\n",
        "# **Now that you have built a dataframe of the postal code of each neighborhood** \n",
        "## **along with the borough name and neighborhood name,** \n",
        "### **in order to utilize the Foursquare location data,** \n",
        "#### **we need to get the latitude and the longitude coordinates of each neighborhood.**\n",
        "\n",
        "\n",
        "##### **In an older version of this course, we were leveraging the Google Maps Geocoding API to get the latitude and the longitude coordinates of each neighborhood. However, recently Google started charging for their API: http://geoawesomeness.com/developers-up-in-arms-over-google-maps-api-insane-price-hike/, so we will use the Geocoder Python package instead: https://geocoder.readthedocs.io/index.html.**"
      ]
    },
    {
      "cell_type": "markdown",
      "metadata": {
        "id": "q3hVuUDC8Y_X",
        "colab_type": "text"
      },
      "source": [
        "# Part 0: Extracting the table again"
      ]
    },
    {
      "cell_type": "code",
      "metadata": {
        "id": "nJIJ8i3J8Y_Y",
        "colab_type": "code",
        "colab": {}
      },
      "source": [
        "import pandas as pd\n",
        "import numpy as np\n",
        "from bs4 import BeautifulSoup\n",
        "import requests\n",
        "\n",
        "wikipedia_link='https://en.wikipedia.org/wiki/List_of_postal_codes_of_Canada:_M'\n",
        "raw_wikipedia_page= requests.get(wikipedia_link).text\n",
        "\n",
        "soup = BeautifulSoup(raw_wikipedia_page,'lxml')\n",
        "#print(soup.prettify())\n"
      ],
      "execution_count": 0,
      "outputs": []
    },
    {
      "cell_type": "code",
      "metadata": {
        "id": "L6fiSIiO8Y_a",
        "colab_type": "code",
        "colab": {}
      },
      "source": [
        "table = soup.find('table')\n",
        "\n",
        "Postcode      = []\n",
        "Borough       = []\n",
        "Neighbourhood = []\n",
        "\n",
        "# print(table)\n",
        "\n",
        "for tr_cell in table.find_all('tr'):\n",
        "    \n",
        "    counter = 1\n",
        "    Postcode_var      = -1\n",
        "    Borough_var       = -1\n",
        "    Neighbourhood_var = -1\n",
        "    \n",
        "    for td_cell in tr_cell.find_all('td'):\n",
        "        if counter == 1: \n",
        "            Postcode_var = td_cell.text\n",
        "        if counter == 2: \n",
        "            Borough_var = td_cell.text\n",
        "            tag_a_Borough = td_cell.find('a')\n",
        "            \n",
        "        if counter == 3: \n",
        "            Neighbourhood_var = str(td_cell.text).strip()\n",
        "            tag_a_Neighbourhood = td_cell.find('a')\n",
        "            \n",
        "        counter +=1\n",
        "        \n",
        "    if (Postcode_var == 'Not assigned' or Borough_var == 'Not assigned' or Neighbourhood_var == 'Not assigned'): \n",
        "        continue\n",
        "    try:\n",
        "        if ((tag_a_Borough is None) or (tag_a_Neighbourhood is None)):\n",
        "            continue\n",
        "    except:\n",
        "        pass\n",
        "    if(Postcode_var == -1 or Borough_var == -1 or Neighbourhood_var == -1):\n",
        "        continue\n",
        "        \n",
        "    Postcode.append(Postcode_var)\n",
        "    Borough.append(Borough_var)\n",
        "    Neighbourhood.append(Neighbourhood_var)\n",
        "    "
      ],
      "execution_count": 0,
      "outputs": []
    },
    {
      "cell_type": "code",
      "metadata": {
        "id": "P1VcRAUb8Y_c",
        "colab_type": "code",
        "colab": {}
      },
      "source": [
        "unique_p = set(Postcode)\n",
        "# print('num of unique Postal codes:', len(unique_p))\n",
        "Postcode_u      = []\n",
        "Borough_u       = []\n",
        "Neighbourhood_u = []\n",
        "\n",
        "\n",
        "for postcode_unique_element in unique_p:\n",
        "    p_var = ''; b_var = ''; n_var = ''; \n",
        "    for postcode_idx, postcode_element in enumerate(Postcode):\n",
        "        if postcode_unique_element == postcode_element:\n",
        "            p_var = postcode_element;\n",
        "            b_var = Borough[postcode_idx]\n",
        "            if n_var == '': \n",
        "                n_var = Neighbourhood[postcode_idx]\n",
        "            else:\n",
        "                n_var = n_var + ', ' + Neighbourhood[postcode_idx]\n",
        "    Postcode_u.append(p_var)\n",
        "    Borough_u.append(b_var)\n",
        "    Neighbourhood_u.append(n_var)\n"
      ],
      "execution_count": 0,
      "outputs": []
    },
    {
      "cell_type": "markdown",
      "metadata": {
        "id": "4r5Kswuy8Y_e",
        "colab_type": "text"
      },
      "source": [
        "# Part 1: Pre-processing - Installing geocoder"
      ]
    },
    {
      "cell_type": "code",
      "metadata": {
        "id": "oSDzI55I8Y_f",
        "colab_type": "code",
        "colab": {}
      },
      "source": [
        "# !pip install geocoder\n",
        "\"\"\"\n",
        "Collecting geocoder\n",
        "  Downloading https://files.pythonhosted.org/packages/4f/6b/13166c909ad2f2d76b929a4227c952630ebaf0d729f6317eb09cbceccbab/geocoder-1.38.1-py2.py3-none-any.whl (98kB)\n",
        "Requirement already satisfied: click in c:\\programdata\\anaconda3\\lib\\site-packages (from geocoder) (6.7)\n",
        "Requirement already satisfied: six in c:\\programdata\\anaconda3\\lib\\site-packages (from geocoder) (1.11.0)\n",
        "Collecting ratelim (from geocoder)\n",
        "  Downloading https://files.pythonhosted.org/packages/f2/98/7e6d147fd16a10a5f821db6e25f192265d6ecca3d82957a4fdd592cad49c/ratelim-0.1.6-py2.py3-none-any.whl\n",
        "Requirement already satisfied: requests in c:\\programdata\\anaconda3\\lib\\site-packages (from geocoder) (2.19.1)\n",
        "Requirement already satisfied: future in c:\\programdata\\anaconda3\\lib\\site-packages (from geocoder) (0.16.0)\n",
        "Requirement already satisfied: decorator in c:\\programdata\\anaconda3\\lib\\site-packages (from ratelim->geocoder) (4.3.0)\n",
        "Requirement already satisfied: chardet<3.1.0,>=3.0.2 in c:\\programdata\\anaconda3\\lib\\site-packages (from requests->geocoder) (3.0.4)\n",
        "Requirement already satisfied: idna<2.8,>=2.5 in c:\\programdata\\anaconda3\\lib\\site-packages (from requests->geocoder) (2.7)\n",
        "Requirement already satisfied: urllib3<1.24,>=1.21.1 in c:\\programdata\\anaconda3\\lib\\site-packages (from requests->geocoder) (1.23)\n",
        "Requirement already satisfied: certifi>=2017.4.17 in c:\\programdata\\anaconda3\\lib\\site-packages (from requests->geocoder) (2018.8.24)\n",
        "Installing collected packages: ratelim, geocoder\n",
        "Successfully installed geocoder-1.38.1 ratelim-0.1.6\n",
        "\"\"\"\n",
        "\n",
        "print('geocoder has been installed before.')\n",
        "import geocoder\n",
        "print('geocoder has been successfully imported.')"
      ],
      "execution_count": 0,
      "outputs": []
    },
    {
      "cell_type": "markdown",
      "metadata": {
        "id": "rNky8olH8Y_i",
        "colab_type": "text"
      },
      "source": [
        "# Part 2: Processing - Extracting Latitude and Longtitude for each Postal code in Toronto"
      ]
    },
    {
      "cell_type": "code",
      "metadata": {
        "id": "gHeVxXB88Y_j",
        "colab_type": "code",
        "colab": {}
      },
      "source": [
        "latitude = []\n",
        "longitude = []\n",
        "for elem in Postcode_u:\n",
        "# initialize your variable to None\n",
        "    lat_lng_coords = None\n",
        "\n",
        "# loop until you get the coordinates\n",
        "    while (lat_lng_coords is None):\n",
        "        g = geocoder.google('{}, Toronto, Ontario'.format(elem))\n",
        "        lat_lng_coords = g.latlng\n",
        "        # print(lat_lng_coords)\n",
        "\n",
        "    latitude.append(lat_lng_coords[0])\n",
        "    longitude.append(lat_lng_coords[1])\n",
        "    print(elem, 'is RECEIVED.')\n",
        "    # print(lat_lng_coords[0])\n",
        "    # print(lat_lng_coords[1])\n",
        "    "
      ],
      "execution_count": 0,
      "outputs": []
    },
    {
      "cell_type": "markdown",
      "metadata": {
        "id": "ZhrhD_Tl8Y_l",
        "colab_type": "text"
      },
      "source": [
        "# Part 3: Post-processing - Creating Pandas Dataframe"
      ]
    },
    {
      "cell_type": "code",
      "metadata": {
        "id": "wPh4UGYa8Y_l",
        "colab_type": "code",
        "colab": {}
      },
      "source": [
        "toronto_dict = {'Postcode':Postcode_u, 'Borough':Borough_u, 'Neighbourhood':Neighbourhood_u,\n",
        "              'Latitude': latitude, 'Longitude':longitude}\n",
        "df_toronto = pd.DataFrame.from_dict(toronto_dict)\n",
        "df_toronto.to_csv('toronto_base.csv')\n",
        "df_toronto.head(10)"
      ],
      "execution_count": 0,
      "outputs": []
    },
    {
      "cell_type": "code",
      "metadata": {
        "id": "ODZV-ik8_BtB",
        "colab_type": "code",
        "colab": {}
      },
      "source": [
        ""
      ],
      "execution_count": 0,
      "outputs": []
    }
  ]
}