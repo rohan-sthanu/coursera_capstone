{
  "nbformat": 4,
  "nbformat_minor": 0,
  "metadata": {
    "kernelspec": {
      "display_name": "Python 3",
      "language": "python",
      "name": "python3"
    },
    "language_info": {
      "codemirror_mode": {
        "name": "ipython",
        "version": 3
      },
      "file_extension": ".py",
      "mimetype": "text/x-python",
      "name": "python",
      "nbconvert_exporter": "python",
      "pygments_lexer": "ipython3",
      "version": "3.6.6"
    },
    "colab": {
      "name": "Part 1-Preprocessing.ipynb",
      "version": "0.3.2",
      "provenance": [],
      "collapsed_sections": [],
      "include_colab_link": true
    }
  },
  "cells": [
    {
      "cell_type": "markdown",
      "metadata": {
        "id": "view-in-github",
        "colab_type": "text"
      },
      "source": [
        "<a href=\"https://colab.research.google.com/github/rezapci/IBM-Coursera-Capstone-Project-Notebook/blob/master/Part_1_Preprocessing.ipynb\" target=\"_parent\"><img src=\"https://colab.research.google.com/assets/colab-badge.svg\" alt=\"Open In Colab\"/></a>"
      ]
    },
    {
      "cell_type": "markdown",
      "metadata": {
        "id": "QEGHffOy8T5B",
        "colab_type": "text"
      },
      "source": [
        "| Name | Description | Date\n",
        "| :- |-------------: | :-:\n",
        "|Reza Hashemi| IBM Applied Data Science Capstone.  | On 6th of August 2019\n",
        "\n",
        "\n",
        "# Peer-graded Assignment: Segmenting and Clustering Neighborhoods in Toronto"
      ]
    },
    {
      "cell_type": "markdown",
      "metadata": {
        "id": "4wGhQMj38T5C",
        "colab_type": "text"
      },
      "source": [
        "# **For this assignment, you will be required to explore and cluster the neighborhoods in Toronto.**\n",
        "\n",
        "## **1- Start by creating a new Notebook for this assignment.**\n",
        "### **2- Use the Notebook to build the code to scrape the following Wikipedia page, https://en.wikipedia.org/wiki/List_of_postal_codes_of_Canada:_M, in order to obtain the data that is in the table of postal codes and to transform the data into a pandas dataframe**"
      ]
    },
    {
      "cell_type": "markdown",
      "metadata": {
        "id": "wyOirZWC8T5D",
        "colab_type": "text"
      },
      "source": [
        "### **Pre-processing**"
      ]
    },
    {
      "cell_type": "code",
      "metadata": {
        "id": "VNVYNmbD8T5D",
        "colab_type": "code",
        "colab": {}
      },
      "source": [
        "# importing necessary libraries\n",
        "import pandas as pd\n",
        "import numpy as np\n",
        "from bs4 import BeautifulSoup\n",
        "import requests"
      ],
      "execution_count": 0,
      "outputs": []
    },
    {
      "cell_type": "code",
      "metadata": {
        "id": "s6FULlWu8T5G",
        "colab_type": "code",
        "colab": {}
      },
      "source": [
        "# getting data from internet\n",
        "wikipedia_link='https://en.wikipedia.org/wiki/List_of_postal_codes_of_Canada:_M'\n",
        "raw_wikipedia_page= requests.get(wikipedia_link).text\n",
        "\n",
        "# using beautiful soup to parse the HTML/XML codes.\n",
        "soup = BeautifulSoup(raw_wikipedia_page,'xml')\n",
        "#print(soup.prettify())"
      ],
      "execution_count": 0,
      "outputs": []
    },
    {
      "cell_type": "markdown",
      "metadata": {
        "id": "gzilOYsJ8T5I",
        "colab_type": "text"
      },
      "source": [
        "### Processing-part-1: extracting raw table (from webpage)"
      ]
    },
    {
      "cell_type": "code",
      "metadata": {
        "id": "p2s7iuTQ8T5I",
        "colab_type": "code",
        "colab": {}
      },
      "source": [
        "# extracting the raw table inside that webpage\n",
        "table = soup.find('table')\n",
        "\n",
        "Postcode      = []\n",
        "Borough       = []\n",
        "Neighbourhood = []\n",
        "\n",
        "# print(table)\n",
        "\n",
        "# extracting a clean form of the table\n",
        "for tr_cell in table.find_all('tr'):\n",
        "    \n",
        "    counter = 1\n",
        "    Postcode_var      = -1\n",
        "    Borough_var       = -1\n",
        "    Neighbourhood_var = -1\n",
        "    \n",
        "    for td_cell in tr_cell.find_all('td'):\n",
        "        if counter == 1: \n",
        "            Postcode_var = td_cell.text\n",
        "        if counter == 2: \n",
        "            Borough_var = td_cell.text\n",
        "            tag_a_Borough = td_cell.find('a')\n",
        "            \n",
        "        if counter == 3: \n",
        "            Neighbourhood_var = str(td_cell.text).strip()\n",
        "            tag_a_Neighbourhood = td_cell.find('a')\n",
        "            \n",
        "        counter +=1\n",
        "        \n",
        "    if (Postcode_var == 'Not assigned' or Borough_var == 'Not assigned' or Neighbourhood_var == 'Not assigned'): \n",
        "        continue\n",
        "    try:\n",
        "        if ((tag_a_Borough is None) or (tag_a_Neighbourhood is None)):\n",
        "            continue\n",
        "    except:\n",
        "        pass\n",
        "    if(Postcode_var == -1 or Borough_var == -1 or Neighbourhood_var == -1):\n",
        "        continue\n",
        "        \n",
        "    Postcode.append(Postcode_var)\n",
        "    Borough.append(Borough_var)\n",
        "    Neighbourhood.append(Neighbourhood_var)\n",
        "    "
      ],
      "execution_count": 0,
      "outputs": []
    },
    {
      "cell_type": "markdown",
      "metadata": {
        "id": "mToHf4uD8T5L",
        "colab_type": "text"
      },
      "source": [
        "### Processing-part-2: integrating Postal codes with more than 1 neighbour"
      ]
    },
    {
      "cell_type": "code",
      "metadata": {
        "id": "5__ZPfgo8T5L",
        "colab_type": "code",
        "colab": {
          "base_uri": "https://localhost:8080/",
          "height": 34
        },
        "outputId": "f36aaa69-76e9-47b1-c2ef-1596d392c3be"
      },
      "source": [
        "\n",
        "unique_p = set(Postcode)\n",
        "print('num of unique Postal codes:', len(unique_p))\n",
        "Postcode_u      = []\n",
        "Borough_u       = []\n",
        "Neighbourhood_u = []\n",
        "\n",
        "\n",
        "for postcode_unique_element in unique_p:\n",
        "    p_var = ''; b_var = ''; n_var = ''; \n",
        "    for postcode_idx, postcode_element in enumerate(Postcode):\n",
        "        if postcode_unique_element == postcode_element:\n",
        "            p_var = postcode_element;\n",
        "            b_var = Borough[postcode_idx]\n",
        "            if n_var == '': \n",
        "                n_var = Neighbourhood[postcode_idx]\n",
        "            else:\n",
        "                n_var = n_var + ', ' + Neighbourhood[postcode_idx]\n",
        "    Postcode_u.append(p_var)\n",
        "    Borough_u.append(b_var)\n",
        "    Neighbourhood_u.append(n_var)\n",
        "\n",
        "    "
      ],
      "execution_count": 16,
      "outputs": [
        {
          "output_type": "stream",
          "text": [
            "num of unique Postal codes: 77\n"
          ],
          "name": "stdout"
        }
      ]
    },
    {
      "cell_type": "markdown",
      "metadata": {
        "id": "UYLTGjPl8T5O",
        "colab_type": "text"
      },
      "source": [
        "### Post-processing: creating an appropriate Pandas Dataframe"
      ]
    },
    {
      "cell_type": "code",
      "metadata": {
        "id": "fKkb2sIA8T5O",
        "colab_type": "code",
        "colab": {
          "base_uri": "https://localhost:8080/",
          "height": 483
        },
        "outputId": "b167e6fb-8173-4771-af9d-ca596af6d250"
      },
      "source": [
        "toronto_dict = {'Postcode':Postcode_u, 'Borough':Borough_u, 'Neighbourhood':Neighbourhood_u}\n",
        "df_toronto = pd.DataFrame.from_dict(toronto_dict)\n",
        "df_toronto.to_csv('toronto_part1.csv')\n",
        "df_toronto.head(14)"
      ],
      "execution_count": 17,
      "outputs": [
        {
          "output_type": "execute_result",
          "data": {
            "text/html": [
              "<div>\n",
              "<style scoped>\n",
              "    .dataframe tbody tr th:only-of-type {\n",
              "        vertical-align: middle;\n",
              "    }\n",
              "\n",
              "    .dataframe tbody tr th {\n",
              "        vertical-align: top;\n",
              "    }\n",
              "\n",
              "    .dataframe thead th {\n",
              "        text-align: right;\n",
              "    }\n",
              "</style>\n",
              "<table border=\"1\" class=\"dataframe\">\n",
              "  <thead>\n",
              "    <tr style=\"text-align: right;\">\n",
              "      <th></th>\n",
              "      <th>Postcode</th>\n",
              "      <th>Borough</th>\n",
              "      <th>Neighbourhood</th>\n",
              "    </tr>\n",
              "  </thead>\n",
              "  <tbody>\n",
              "    <tr>\n",
              "      <th>0</th>\n",
              "      <td>M9C</td>\n",
              "      <td>Etobicoke</td>\n",
              "      <td>Markland Wood</td>\n",
              "    </tr>\n",
              "    <tr>\n",
              "      <th>1</th>\n",
              "      <td>M1L</td>\n",
              "      <td>Scarborough</td>\n",
              "      <td>Clairlea, Golden Mile, Oakridge</td>\n",
              "    </tr>\n",
              "    <tr>\n",
              "      <th>2</th>\n",
              "      <td>M4C</td>\n",
              "      <td>East York</td>\n",
              "      <td>Woodbine Heights</td>\n",
              "    </tr>\n",
              "    <tr>\n",
              "      <th>3</th>\n",
              "      <td>M8W</td>\n",
              "      <td>Etobicoke</td>\n",
              "      <td>Alderwood, Long Branch</td>\n",
              "    </tr>\n",
              "    <tr>\n",
              "      <th>4</th>\n",
              "      <td>M8V</td>\n",
              "      <td>Etobicoke</td>\n",
              "      <td>New Toronto</td>\n",
              "    </tr>\n",
              "    <tr>\n",
              "      <th>5</th>\n",
              "      <td>M8X</td>\n",
              "      <td>Etobicoke</td>\n",
              "      <td>The Kingsway</td>\n",
              "    </tr>\n",
              "    <tr>\n",
              "      <th>6</th>\n",
              "      <td>M5S</td>\n",
              "      <td>Downtown Toronto</td>\n",
              "      <td>University of Toronto</td>\n",
              "    </tr>\n",
              "    <tr>\n",
              "      <th>7</th>\n",
              "      <td>M4J</td>\n",
              "      <td>East York</td>\n",
              "      <td>East Toronto</td>\n",
              "    </tr>\n",
              "    <tr>\n",
              "      <th>8</th>\n",
              "      <td>M2K</td>\n",
              "      <td>North York</td>\n",
              "      <td>Bayview Village</td>\n",
              "    </tr>\n",
              "    <tr>\n",
              "      <th>9</th>\n",
              "      <td>M3H</td>\n",
              "      <td>North York</td>\n",
              "      <td>Bathurst Manor, Wilson Heights</td>\n",
              "    </tr>\n",
              "    <tr>\n",
              "      <th>10</th>\n",
              "      <td>M9L</td>\n",
              "      <td>North York</td>\n",
              "      <td>Humber Summit</td>\n",
              "    </tr>\n",
              "    <tr>\n",
              "      <th>11</th>\n",
              "      <td>M6K</td>\n",
              "      <td>West Toronto</td>\n",
              "      <td>Exhibition Place, Parkdale Village</td>\n",
              "    </tr>\n",
              "    <tr>\n",
              "      <th>12</th>\n",
              "      <td>M5R</td>\n",
              "      <td>Central Toronto</td>\n",
              "      <td>The Annex, Yorkville</td>\n",
              "    </tr>\n",
              "    <tr>\n",
              "      <th>13</th>\n",
              "      <td>M5X</td>\n",
              "      <td>Downtown Toronto</td>\n",
              "      <td>First Canadian Place, Underground city</td>\n",
              "    </tr>\n",
              "  </tbody>\n",
              "</table>\n",
              "</div>"
            ],
            "text/plain": [
              "   Postcode           Borough                           Neighbourhood\n",
              "0       M9C         Etobicoke                           Markland Wood\n",
              "1       M1L       Scarborough         Clairlea, Golden Mile, Oakridge\n",
              "2       M4C         East York                        Woodbine Heights\n",
              "3       M8W         Etobicoke                  Alderwood, Long Branch\n",
              "4       M8V         Etobicoke                             New Toronto\n",
              "5       M8X         Etobicoke                            The Kingsway\n",
              "6       M5S  Downtown Toronto                   University of Toronto\n",
              "7       M4J         East York                            East Toronto\n",
              "8       M2K        North York                         Bayview Village\n",
              "9       M3H        North York          Bathurst Manor, Wilson Heights\n",
              "10      M9L        North York                           Humber Summit\n",
              "11      M6K      West Toronto      Exhibition Place, Parkdale Village\n",
              "12      M5R   Central Toronto                    The Annex, Yorkville\n",
              "13      M5X  Downtown Toronto  First Canadian Place, Underground city"
            ]
          },
          "metadata": {
            "tags": []
          },
          "execution_count": 17
        }
      ]
    },
    {
      "cell_type": "code",
      "metadata": {
        "id": "C8nZ6qw-8T5R",
        "colab_type": "code",
        "colab": {
          "base_uri": "https://localhost:8080/",
          "height": 34
        },
        "outputId": "7a34c6d7-f106-4093-e1a9-a3310d69ca96"
      },
      "source": [
        "df_toronto.shape"
      ],
      "execution_count": 18,
      "outputs": [
        {
          "output_type": "execute_result",
          "data": {
            "text/plain": [
              "(77, 3)"
            ]
          },
          "metadata": {
            "tags": []
          },
          "execution_count": 18
        }
      ]
    },
    {
      "cell_type": "markdown",
      "metadata": {
        "id": "WI15vPYT8T5T",
        "colab_type": "text"
      },
      "source": [
        "#### Please Note: The number of unique postal codes is 77. If you think any part of my code is incorrect, feel free to teach or inform me. \n",
        "#### Thanks and Best Reagrds, \n",
        "#### Reza Hashemi"
      ]
    },
    {
      "cell_type": "code",
      "metadata": {
        "id": "Ga9lJXr78T5U",
        "colab_type": "code",
        "colab": {}
      },
      "source": [
        ""
      ],
      "execution_count": 0,
      "outputs": []
    }
  ]
}