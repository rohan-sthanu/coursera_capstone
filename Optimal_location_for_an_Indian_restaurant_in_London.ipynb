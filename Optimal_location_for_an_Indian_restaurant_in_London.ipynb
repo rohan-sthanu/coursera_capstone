{
  "nbformat": 4,
  "nbformat_minor": 0,
  "metadata": {
    "kernelspec": {
      "display_name": "Python 3",
      "language": "python",
      "name": "python3"
    },
    "language_info": {
      "codemirror_mode": {
        "name": "ipython",
        "version": 3
      },
      "file_extension": ".py",
      "mimetype": "text/x-python",
      "name": "python",
      "nbconvert_exporter": "python",
      "pygments_lexer": "ipython3",
      "version": "3.7.4"
    },
    "colab": {
      "name": "Optimal location for an Indian restaurant in London.ipynb",
      "version": "0.3.2",
      "provenance": [],
      "collapsed_sections": [],
      "include_colab_link": true
    }
  },
  "cells": [
    {
      "cell_type": "markdown",
      "metadata": {
        "id": "view-in-github",
        "colab_type": "text"
      },
      "source": [
        "<a href=\"https://colab.research.google.com/github/rezapci/IBM-Coursera-Capstone-Project-Notebook/blob/master/Optimal_location_for_an_Indian_restaurant_in_London.ipynb\" target=\"_parent\"><img src=\"https://colab.research.google.com/assets/colab-badge.svg\" alt=\"Open In Colab\"/></a>"
      ]
    },
    {
      "cell_type": "markdown",
      "metadata": {
        "id": "5pofIJb_QiqE",
        "colab_type": "text"
      },
      "source": [
        "| Name | Description | Date\n",
        "| :- |-------------: | :-:\n",
        "|Reza Hashemi| IBM Applied Data Science Capstone.  | On 6th of August 2019\n",
        "\n",
        "# FINDING OPTIMAL LOCATION FOR A BUSINESS PROBLEM"
      ]
    },
    {
      "cell_type": "markdown",
      "metadata": {
        "id": "HnB-mwM6QiqF",
        "colab_type": "text"
      },
      "source": [
        "### 1. Problem Description"
      ]
    },
    {
      "cell_type": "markdown",
      "metadata": {
        "id": "fINVNlmwQiqG",
        "colab_type": "text"
      },
      "source": [
        "In this project, the problem attempted to solve will be to find the best possible location or the most optimal, for an Indian restaurant in the city of London, England. To achieve this task, an analytical approach will be used, based on advanced machine learning techniques and data analysis, concretely clustering and perhaps some data visualization techniques. \n",
        "\n",
        "During the process of analysis, several data transformations will be performed, in order the find the best possible data format for the machine learning model to ingest. Once the data is set up and prepared, a modeling process will be carried out, and this statistical analysis will provide the best possible places to locate the Indian restaurant."
      ]
    },
    {
      "cell_type": "markdown",
      "metadata": {
        "id": "OFHXBTG2QiqH",
        "colab_type": "text"
      },
      "source": [
        "### 2. Data Presentation"
      ]
    },
    {
      "cell_type": "markdown",
      "metadata": {
        "id": "Duq83PnLQiqH",
        "colab_type": "text"
      },
      "source": [
        "The data that will be used to develop this project is based on two sites:\n",
        "\n",
        "    1. The Foursquare Api: This data will be accesed via Python, and used to obtain the most common venues per neighborhood in the city of London. This way, it is possible to have a taste of how the city's venues are distributed, what are the most common places for leisure, and in general, it will provide an idea of what people's likes are.\n",
        "    \n",
        "    2. Wikipedia's Ethnic groups in London webpage: This site provides information about ethnicity of population in London which is of great utility to solve this problem. The webpage is scraped using BeautifulSoup4, and the table containing Asian population of London is converted into DataFrame. The data contains information about the inmigrant population per borough and per nationality. This data will be analyzed in such a way that one could determine the best location of r anew venue/restaurant/other based on people's nationalities. For the sake of simplicity, it will be assumed for this exercise that people's likes varies according to their nationality, and that people from one specific country will be more attracted to place that matches the environment and culture of their own countries, rather than the ones from foreign countries.\n",
        "\n",
        "You can access the data by clicking [this link](https://en.wikipedia.org/wiki/Ethnic_groups_in_London)"
      ]
    },
    {
      "cell_type": "markdown",
      "metadata": {
        "id": "Xs1g42czQiqI",
        "colab_type": "text"
      },
      "source": [
        "### Let's see what the data looks like"
      ]
    },
    {
      "cell_type": "code",
      "metadata": {
        "id": "uWbH1AUGQiqI",
        "colab_type": "code",
        "outputId": "76ba0da7-d86f-48a9-97aa-d12b3507829d",
        "colab": {}
      },
      "source": [
        "import requests\n",
        "import pandas as pd\n",
        "import numpy as np\n",
        "\n",
        "website_url = requests.get('https://en.wikipedia.org/wiki/Ethnic_groups_in_London').text\n",
        "\n",
        "from bs4 import BeautifulSoup\n",
        "soup = BeautifulSoup(website_url,'html')\n",
        "\n",
        "scrape_table = soup.find_all('table',{'class':'wikitable sortable'})\n",
        "# scrape_table[2]\n",
        "df_scraped = pd.read_html(str(scrape_table[2]))\n",
        "df_scraped = df_scraped[0].dropna(axis=0)\n",
        "df_scraped = df_scraped.drop(columns=\"Rank\")\n",
        "# df_scraped = df_scraped.transpose()\n",
        "# new_header = df_scraped.iloc[0] \n",
        "# df_scraped = df_scraped[1:] \n",
        "# df_scraped.columns = new_header\n",
        "df_scraped"
      ],
      "execution_count": 0,
      "outputs": [
        {
          "output_type": "execute_result",
          "data": {
            "text/html": [
              "<div>\n",
              "<style scoped>\n",
              "    .dataframe tbody tr th:only-of-type {\n",
              "        vertical-align: middle;\n",
              "    }\n",
              "\n",
              "    .dataframe tbody tr th {\n",
              "        vertical-align: top;\n",
              "    }\n",
              "\n",
              "    .dataframe thead th {\n",
              "        text-align: right;\n",
              "    }\n",
              "</style>\n",
              "<table border=\"1\" class=\"dataframe\">\n",
              "  <thead>\n",
              "    <tr style=\"text-align: right;\">\n",
              "      <th></th>\n",
              "      <th>London Borough</th>\n",
              "      <th>Indian Population</th>\n",
              "      <th>Pakistani Population</th>\n",
              "      <th>Bangladeshi Population</th>\n",
              "      <th>Chinese Population</th>\n",
              "      <th>Other Asian Population</th>\n",
              "      <th>Total Asian Population</th>\n",
              "    </tr>\n",
              "  </thead>\n",
              "  <tbody>\n",
              "    <tr>\n",
              "      <th>0</th>\n",
              "      <td>Newham</td>\n",
              "      <td>42484</td>\n",
              "      <td>30307</td>\n",
              "      <td>37262</td>\n",
              "      <td>3930</td>\n",
              "      <td>19912</td>\n",
              "      <td>133895</td>\n",
              "    </tr>\n",
              "    <tr>\n",
              "      <th>1</th>\n",
              "      <td>Redbridge</td>\n",
              "      <td>45660</td>\n",
              "      <td>31051</td>\n",
              "      <td>16011</td>\n",
              "      <td>3000</td>\n",
              "      <td>20781</td>\n",
              "      <td>116503</td>\n",
              "    </tr>\n",
              "    <tr>\n",
              "      <th>2</th>\n",
              "      <td>Brent</td>\n",
              "      <td>58017</td>\n",
              "      <td>14381</td>\n",
              "      <td>1749</td>\n",
              "      <td>3250</td>\n",
              "      <td>28589</td>\n",
              "      <td>105986</td>\n",
              "    </tr>\n",
              "    <tr>\n",
              "      <th>3</th>\n",
              "      <td>Tower Hamlets</td>\n",
              "      <td>6787</td>\n",
              "      <td>2442</td>\n",
              "      <td>81377</td>\n",
              "      <td>8109</td>\n",
              "      <td>5786</td>\n",
              "      <td>104501</td>\n",
              "    </tr>\n",
              "    <tr>\n",
              "      <th>4</th>\n",
              "      <td>Harrow</td>\n",
              "      <td>63051</td>\n",
              "      <td>7797</td>\n",
              "      <td>1378</td>\n",
              "      <td>2629</td>\n",
              "      <td>26953</td>\n",
              "      <td>101808</td>\n",
              "    </tr>\n",
              "    <tr>\n",
              "      <th>5</th>\n",
              "      <td>Ealing</td>\n",
              "      <td>48240</td>\n",
              "      <td>14711</td>\n",
              "      <td>1786</td>\n",
              "      <td>4132</td>\n",
              "      <td>31570</td>\n",
              "      <td>100439</td>\n",
              "    </tr>\n",
              "    <tr>\n",
              "      <th>6</th>\n",
              "      <td>Hounslow</td>\n",
              "      <td>48161</td>\n",
              "      <td>13676</td>\n",
              "      <td>2189</td>\n",
              "      <td>2405</td>\n",
              "      <td>20826</td>\n",
              "      <td>87257</td>\n",
              "    </tr>\n",
              "    <tr>\n",
              "      <th>7</th>\n",
              "      <td>Hillingdon</td>\n",
              "      <td>36795</td>\n",
              "      <td>9200</td>\n",
              "      <td>2639</td>\n",
              "      <td>2889</td>\n",
              "      <td>17730</td>\n",
              "      <td>69253</td>\n",
              "    </tr>\n",
              "    <tr>\n",
              "      <th>8</th>\n",
              "      <td>Barnet</td>\n",
              "      <td>27920</td>\n",
              "      <td>5344</td>\n",
              "      <td>2215</td>\n",
              "      <td>8259</td>\n",
              "      <td>22180</td>\n",
              "      <td>65918</td>\n",
              "    </tr>\n",
              "    <tr>\n",
              "      <th>9</th>\n",
              "      <td>Croydon</td>\n",
              "      <td>24660</td>\n",
              "      <td>10865</td>\n",
              "      <td>2570</td>\n",
              "      <td>3925</td>\n",
              "      <td>17607</td>\n",
              "      <td>59627</td>\n",
              "    </tr>\n",
              "    <tr>\n",
              "      <th>10</th>\n",
              "      <td>Waltham Forest</td>\n",
              "      <td>9134</td>\n",
              "      <td>26347</td>\n",
              "      <td>4632</td>\n",
              "      <td>2579</td>\n",
              "      <td>11697</td>\n",
              "      <td>54389</td>\n",
              "    </tr>\n",
              "    <tr>\n",
              "      <th>11</th>\n",
              "      <td>Merton</td>\n",
              "      <td>8106</td>\n",
              "      <td>7337</td>\n",
              "      <td>2216</td>\n",
              "      <td>2618</td>\n",
              "      <td>15866</td>\n",
              "      <td>36143</td>\n",
              "    </tr>\n",
              "    <tr>\n",
              "      <th>12</th>\n",
              "      <td>Camden</td>\n",
              "      <td>6083</td>\n",
              "      <td>1489</td>\n",
              "      <td>12503</td>\n",
              "      <td>6493</td>\n",
              "      <td>8878</td>\n",
              "      <td>35446</td>\n",
              "    </tr>\n",
              "    <tr>\n",
              "      <th>13</th>\n",
              "      <td>Enfield</td>\n",
              "      <td>11648</td>\n",
              "      <td>2594</td>\n",
              "      <td>5599</td>\n",
              "      <td>2588</td>\n",
              "      <td>12464</td>\n",
              "      <td>34893</td>\n",
              "    </tr>\n",
              "    <tr>\n",
              "      <th>14</th>\n",
              "      <td>Wandsworth</td>\n",
              "      <td>8642</td>\n",
              "      <td>9718</td>\n",
              "      <td>1493</td>\n",
              "      <td>3715</td>\n",
              "      <td>9770</td>\n",
              "      <td>33338</td>\n",
              "    </tr>\n",
              "    <tr>\n",
              "      <th>15</th>\n",
              "      <td>Westminster</td>\n",
              "      <td>7213</td>\n",
              "      <td>2328</td>\n",
              "      <td>6299</td>\n",
              "      <td>5917</td>\n",
              "      <td>10105</td>\n",
              "      <td>31862</td>\n",
              "    </tr>\n",
              "    <tr>\n",
              "      <th>16</th>\n",
              "      <td>Greenwich</td>\n",
              "      <td>7836</td>\n",
              "      <td>2594</td>\n",
              "      <td>1645</td>\n",
              "      <td>5061</td>\n",
              "      <td>12758</td>\n",
              "      <td>29894</td>\n",
              "    </tr>\n",
              "    <tr>\n",
              "      <th>17</th>\n",
              "      <td>Barking and Dagenham</td>\n",
              "      <td>7436</td>\n",
              "      <td>8007</td>\n",
              "      <td>7701</td>\n",
              "      <td>1315</td>\n",
              "      <td>5135</td>\n",
              "      <td>29594</td>\n",
              "    </tr>\n",
              "    <tr>\n",
              "      <th>18</th>\n",
              "      <td>Southwark</td>\n",
              "      <td>5819</td>\n",
              "      <td>1623</td>\n",
              "      <td>3912</td>\n",
              "      <td>8074</td>\n",
              "      <td>7764</td>\n",
              "      <td>27192</td>\n",
              "    </tr>\n",
              "    <tr>\n",
              "      <th>19</th>\n",
              "      <td>Kingston Upon Thames</td>\n",
              "      <td>6325</td>\n",
              "      <td>3009</td>\n",
              "      <td>892</td>\n",
              "      <td>2883</td>\n",
              "      <td>13043</td>\n",
              "      <td>26152</td>\n",
              "    </tr>\n",
              "  </tbody>\n",
              "</table>\n",
              "</div>"
            ],
            "text/plain": [
              "          London Borough  Indian Population  Pakistani Population  \\\n",
              "0                 Newham              42484                 30307   \n",
              "1              Redbridge              45660                 31051   \n",
              "2                  Brent              58017                 14381   \n",
              "3          Tower Hamlets               6787                  2442   \n",
              "4                 Harrow              63051                  7797   \n",
              "5                 Ealing              48240                 14711   \n",
              "6               Hounslow              48161                 13676   \n",
              "7             Hillingdon              36795                  9200   \n",
              "8                 Barnet              27920                  5344   \n",
              "9                Croydon              24660                 10865   \n",
              "10        Waltham Forest               9134                 26347   \n",
              "11                Merton               8106                  7337   \n",
              "12                Camden               6083                  1489   \n",
              "13               Enfield              11648                  2594   \n",
              "14            Wandsworth               8642                  9718   \n",
              "15           Westminster               7213                  2328   \n",
              "16             Greenwich               7836                  2594   \n",
              "17  Barking and Dagenham               7436                  8007   \n",
              "18             Southwark               5819                  1623   \n",
              "19  Kingston Upon Thames               6325                  3009   \n",
              "\n",
              "    Bangladeshi Population  Chinese Population  Other Asian Population  \\\n",
              "0                    37262                3930                   19912   \n",
              "1                    16011                3000                   20781   \n",
              "2                     1749                3250                   28589   \n",
              "3                    81377                8109                    5786   \n",
              "4                     1378                2629                   26953   \n",
              "5                     1786                4132                   31570   \n",
              "6                     2189                2405                   20826   \n",
              "7                     2639                2889                   17730   \n",
              "8                     2215                8259                   22180   \n",
              "9                     2570                3925                   17607   \n",
              "10                    4632                2579                   11697   \n",
              "11                    2216                2618                   15866   \n",
              "12                   12503                6493                    8878   \n",
              "13                    5599                2588                   12464   \n",
              "14                    1493                3715                    9770   \n",
              "15                    6299                5917                   10105   \n",
              "16                    1645                5061                   12758   \n",
              "17                    7701                1315                    5135   \n",
              "18                    3912                8074                    7764   \n",
              "19                     892                2883                   13043   \n",
              "\n",
              "    Total Asian Population  \n",
              "0                   133895  \n",
              "1                   116503  \n",
              "2                   105986  \n",
              "3                   104501  \n",
              "4                   101808  \n",
              "5                   100439  \n",
              "6                    87257  \n",
              "7                    69253  \n",
              "8                    65918  \n",
              "9                    59627  \n",
              "10                   54389  \n",
              "11                   36143  \n",
              "12                   35446  \n",
              "13                   34893  \n",
              "14                   33338  \n",
              "15                   31862  \n",
              "16                   29894  \n",
              "17                   29594  \n",
              "18                   27192  \n",
              "19                   26152  "
            ]
          },
          "metadata": {
            "tags": []
          },
          "execution_count": 3
        }
      ]
    },
    {
      "cell_type": "code",
      "metadata": {
        "id": "_FRAZKznQiqM",
        "colab_type": "code",
        "colab": {}
      },
      "source": [
        "df_scraped.to_csv('London population.csv')"
      ],
      "execution_count": 0,
      "outputs": []
    },
    {
      "cell_type": "markdown",
      "metadata": {
        "id": "JFeNJU1UQiqO",
        "colab_type": "text"
      },
      "source": [
        "This is the look of part of the actual data that will be used to tackle this optimal business location problem. In combination with the Foursquare API data, it should be enough to carry out a good analytical approach to solve this problem."
      ]
    },
    {
      "cell_type": "markdown",
      "metadata": {
        "id": "aUp7SnQOQiqP",
        "colab_type": "text"
      },
      "source": [
        "### 3. Target Audience"
      ]
    },
    {
      "cell_type": "markdown",
      "metadata": {
        "id": "jdt8Sc4HQiqP",
        "colab_type": "text"
      },
      "source": [
        "The target audience of this project could be any business owner that is planning to open a new business local, restaurant, real state agency, shops, etc... Since this approach could be applicable not only to Indian food restaurants but to other kind of businesses, anybody who is considering to place a new business local or even relocate it, could beneficiate of this project's approach."
      ]
    }
  ]
}